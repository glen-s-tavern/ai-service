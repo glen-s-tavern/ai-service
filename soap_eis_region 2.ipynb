{
 "cells": [
  {
   "cell_type": "code",
   "execution_count": 18,
   "id": "3b03aa79-b7dc-4584-8d25-91d9cf5c2079",
   "metadata": {},
   "outputs": [
    {
     "data": {
      "text/plain": [
       "'<?xml version=\"1.0\" encoding=\"UTF-8\"?><soap:Envelope xmlns:soap=\"http://schemas.xmlsoap.org/soap/envelope/\">   <soap:Header/>   <soap:Body>      <ns2:getDocsByOrgRegionResponse xmlns:ns2=\"http://zakupki.gov.ru/fz44/get-docs-ip/ws\">         <index>            <id>38ab64e4-130f-4d8f-a98e-4073b85d8100</id>            <refId>e5c43cf6-ed55-4d3a-98f0-78172a78c9cf</refId>            <createDateTime>2025-01-28T22:02:50.684</createDateTime>            <mode>PROD</mode>         </index>         <dataInfo>            <archiveUrl>https://int44.zakupki.gov.ru/dstore/ip/download/PRIZ/file.zip?ticket=TW8EXbX5J7EGA5cfIGFtxkCyiUR3G4kFmIkpn07kdeiwy%2FyjeDmnSCJcPZgcauvqYCDcpBc1Ml1PXo5%2BJfRXtyqmtfdHtG2VVE1InX2A6UWwGp7PNF3ql5kYI04gURCN1q74h%2Bvp3756VIwNG3enREx0K3ttbqEJZIMagS6az8tHJwFYOOFoVrnkuHsmVDhTSTVStmy%2BiaQHSL4grf%2FuwCVpSJdYX4nPJCgQc60yEgsmfDaQO3YeMgk9h3FJAxWKw76b2UgKHNsxokDosxRrWs7WnMNPo%2B%2F3UkqLxwbjDkyuMvSQfKLOTXLuyKpyZgKYWdc8bqWnSMmVoOqMdimyPg%3D%3D</archiveUrl>            <archiveUrl>https://int44.zakupki.gov.ru/dstore/ip/download/PRIZ/file.zip?ticket=AnOxz0ngM8%2B9z1Cqmj92WiT30RSecX1h%2FUWqpx1Dy%2F4ac7rXOX2XNdGZPL8kpHb0q6flpM%2Bksqwtf9lhEVkrYuoojirduTzrQd4WBm5HeVc6joJ3rfZ3owvK8Y7n%2F9fmKCJ%2F9LtYFCjsn1zaXivgdAgpsL7cBUr0Fi5b9kEuDO%2FXhxbUOkRqlN7Ho0YJDTaLFQ5ddXb0ar7s0NasMRt2L57fwYpH%2FSLN5DIxoGYua5swJuycjjlU7ZPoGPQCI0ao9GBE8TzxwqqT60cN38Tr4G6U4CCGoz061fY%2F5xzwKsPaPkJjk8aMFas1yhROdumPNCoguG66uUtMujQNaCi3dA%3D%3D</archiveUrl>            <archiveUrl>https://int44.zakupki.gov.ru/dstore/ip/download/PRIZ/file.zip?ticket=rS4OcqBSdqkWzimNPoH6bE1k1FhvaRAw0zyXbNggxq6DZ9ouIbNML7kaUnuoXFuqqc6ROIdvpNJ%2FKvgObkj6fvXqEFYErqujl1TQ9BPO2e8XqaVkfpUCQf%2FNXSydyZXgHH%2FBI61sjxaxucPMKNRb33KX1PWdHARXEd%2B57rBbxftrBSQbvgbX0w6fSLtsRTNsPujNGm8B7Tc%2F8TgtGNx1Sh5pes5PhahdK3hYWxeziPW2FFRHIhgAADCl%2FElsI4HLmb1k9Z1%2FvVIcJ%2BrMhQjrBuedMHqkYvKRJvqkdDKJ%2BGhY0XxiuuLcQdED5BqdZnKTsiSq7eWwmlsAROusUh%2FBdA%3D%3D</archiveUrl>            <archiveUrl>https://int44.zakupki.gov.ru/dstore/ip/download/PRIZ/file.zip?ticket=Bjla0KmTyq6kQhipFYukpa2mzQBs4JGwrEafvcoRI%2FE%2FUmXwQFrB08oQqJ12y%2BjGY5OGJjnka6THVAq3pl594oPtZttPHEvVT6O5rW9kQQT6utX0OY6ZbtR5AeisFjdUXPUsLPt489j0A5GgecFyhnEV27t7nsg9q%2BcxfUgzYgXXqBmJ8FiVF9TRGGt23Y8Mu2Dxect%2Fird2Dz23sT2qCMyu87Ym%2Fd78Eb72Njuynzt9tpO0ouvs4Mg%2Fq%2FKz7NBlGgMrWNoHje7VngMifjgmXbnQ1tx3AC1009NgFC4pQOn4VOBHYU00MvduBqp7ZsFak%2FyNs1kxqH58quXCTQglmw%3D%3D</archiveUrl>            <archiveUrl>https://int44.zakupki.gov.ru/dstore/ip/download/PRIZ/file.zip?ticket=AIxVU2YPBAAWywc7GcwKOXgPqWDgmIX2Zk9phvY1vlsQoMDjRU3%2B9Sm4poxni%2BIvHa1LAk%2Fby%2ByY1K5NkpdmczVKym3fJsUHjzvQdADyHc1V4zBMA5RQ6%2FxvF238uXbRbIRvDPUjXHgT6vbYK%2FeT%2BK1RbdfCd680Grq7xnSylrVUp94fbNPgffZr2latCP5OQ%2FllkNPMAnM0EmM4WJ7hh6vFlPUj8%2BrxUBoVTB%2FO3HX%2BX6qdVz4USWBxqQlwD8hmkS0QcER5B0%2BuUAlF9cx%2FUoMgX%2BylCBRRsylb%2BBtj2kODQYGhPV8EopIb%2F6WkezYvi9XdChzwK6B6syrNm6JcxQ%3D%3D</archiveUrl>            <archiveUrl>https://int44.zakupki.gov.ru/dstore/ip/download/PRIZ/file.zip?ticket=Ok%2FzMjKvZG7Sey0AWk8XFmBhaczKQEnP7I%2Fq684bfNC54pv6oTph8jzIN4bhqIpjpG4eVD35GU5FwYxti1QnL%2BGraqZ%2FzBI14ng0CsSCyMrBAxyryjhe1Ye7cnab9zxI1darp7N%2ByWPNT9qBCFIMphfRltWdBpHbmCIWAABsJelxDVSIEfEF0ekCFEmQSb7aPe%2BYki85m5VJgG0SUuBFNVqzDDhps7s%2FbeXFKDBmmAFKViYYHKI1MwvVl7HK08ErRN2hKf2%2B%2FviSSOMf3ZvvOvbY0HVHdFz4EOvIf44jnrrM7smTVMJ4%2BtEyJi6NFqTpUSxWNdFzVwsBzDXcQ%2FVoXA%3D%3D</archiveUrl>            <archiveUrl>https://int44.zakupki.gov.ru/dstore/ip/download/PRIZ/file.zip?ticket=XWHAflIgqYQLpshYTTLFrK43BBBUWZuf%2FJdvYP0MBlVZq9clXz8R1XvD%2BVuGwcR3TI7xGBdPtI9h%2F%2BXiv49%2BvcVA2VrY4wcf%2BBR3whp4n0AZlBH1WeiMs4At3l44diMhUt0k%2BPbwiM4F60QsN2ISbyG0PHycRbW821QcR85ysNTgBO4NQwM%2FYMqvTUxe4cRGIY%2FJZ2DhkoJFNRHnExfiVZizBTh1QquDw7Nzj6Unv%2F7G7AdaZB2s8cZ1ZNEYAezJx%2B4fSpjXaD9WoD3sJY8JMVmIdJI7bpI27G%2BaPs6ixMYoCwXlnWjz0wsjHpLLV8Fr17ZGRvybUKzoxSOVidrJ8w%3D%3D</archiveUrl>         </dataInfo>      </ns2:getDocsByOrgRegionResponse>   </soap:Body></soap:Envelope>'"
      ]
     },
     "execution_count": 18,
     "metadata": {},
     "output_type": "execute_result"
    }
   ],
   "source": [
    "import requests\n",
    "from xml.dom.minidom import parseString\n",
    "import uuid\n",
    "from datetime import datetime, timezone\n",
    "\n",
    "url = \"https://int44.zakupki.gov.ru/eis-integration/services/getDocsIP\" #correct для ФЛ\n",
    "\n",
    "token = \"3735f424-f2ac-4e0b-9c26-7f5b69e5c04a\" #correct\n",
    "\n",
    "idx = uuid.uuid4() #correct\n",
    "#idx = \"efd1ab5f-f95b-421d-a041-f839a03a2b5a\"\n",
    "\n",
    "time = datetime.now(timezone.utc).strftime('%Y-%m-%dT%H:%M:%SZ')\n",
    "#time = \"2024-09-02T10:00:00\" #correct?\n",
    "\n",
    "mode = \"PROD\"\n",
    "#mode = \"TEST\"\n",
    "\n",
    "# code = '77' #москва\n",
    "# sbsType = \"PRIZ\" #correct\n",
    "\n",
    "#reestr_number = \"0338200005124000169\" # correct - artem\n",
    "#resstr_number = \"0338300047925000002\"\n",
    "\n",
    "soapEnvelope = f\"\"\"\n",
    "<soap:Envelope xmlns:soap=\"http://schemas.xmlsoap.org/soap/envelope/\">\n",
    "  <soap:Header><individualPerson_token>{token}</individualPerson_token></soap:Header>\n",
    "  <soap:Body>\n",
    "    <ns2:getDocsByOrgRegionRequest xmlns:ns2=\"http://zakupki.gov.ru/fz44/get-docs-ip/ws\">\n",
    "      <index>\n",
    "        <id>{idx}</id>\n",
    "        <createDateTime>{time}</createDateTime>\n",
    "        <mode>PROD</mode>\n",
    "      </index>\n",
    "      <selectionParams>\n",
    "        <orgRegion>77</orgRegion>\n",
    "        <subsystemType>PRIZ</subsystemType>\n",
    "        <documentType223>epNotificationEF2020</documentType223>\n",
    "        <periodInfo>\n",
    "          <exactDate>2024-11-07</exactDate>\n",
    "        </periodInfo>\n",
    "      </selectionParams>\n",
    "    </ns2:getDocsByOrgRegionRequest>\n",
    "  </soap:Body>\n",
    "</soap:Envelope>\n",
    "\"\"\"\n",
    "\n",
    "options = {\n",
    "    \"Content-Type\": \"text/xml; charset=utf-8\"\n",
    "}\n",
    "response = requests.post(url, data = soapEnvelope, headers = options)\n",
    "response.text"
   ]
  },
  {
   "cell_type": "markdown",
   "id": "320f5454-b9c1-45b7-98cd-2b3a1a24a6e4",
   "metadata": {},
   "source": [
    "КАК ФИЛЬТРОВАТЬ ПО РЕГИОНУ"
   ]
  },
  {
   "cell_type": "code",
   "execution_count": null,
   "id": "5874f805-dd2c-47d2-9b82-9f6a048607a8",
   "metadata": {},
   "outputs": [],
   "source": []
  },
  {
   "cell_type": "code",
   "execution_count": null,
   "id": "533484f5-6a48-4ab8-874b-5a1fa42b4d92",
   "metadata": {},
   "outputs": [],
   "source": []
  },
  {
   "cell_type": "code",
   "execution_count": null,
   "id": "ae9089cd-16bb-49b9-83f6-0c9d1aa6e8f9",
   "metadata": {},
   "outputs": [],
   "source": []
  },
  {
   "cell_type": "code",
   "execution_count": null,
   "id": "351dc016-14ad-4c80-b8a6-cd387009152e",
   "metadata": {},
   "outputs": [],
   "source": []
  },
  {
   "cell_type": "code",
   "execution_count": 33,
   "id": "62a1c6ec-4af3-4eba-b2de-832bd1088afa",
   "metadata": {},
   "outputs": [],
   "source": [
    "with open(\"response.xml\", \"w\", encoding=\"utf-8\") as file:\n",
    "    file.write(response.text)"
   ]
  },
  {
   "cell_type": "code",
   "execution_count": 34,
   "id": "f0717832-567e-40cc-a8ba-416c58ef2b32",
   "metadata": {},
   "outputs": [
    {
     "name": "stdout",
     "output_type": "stream",
     "text": [
      "archiveUrl не найден\n"
     ]
    }
   ],
   "source": [
    "import xml.etree.ElementTree as ET\n",
    "\n",
    "# Путь к XML-файлу\n",
    "file_path = 'response.xml'\n",
    "\n",
    "# Чтение и разбор XML\n",
    "tree = ET.parse(file_path)\n",
    "root = tree.getroot()\n",
    "\n",
    "# Пространство имен, используемое в файле\n",
    "namespaces = {\n",
    "    'soap': 'http://schemas.xmlsoap.org/soap/envelope/',\n",
    "    'ns2': 'http://zakupki.gov.ru/fz44/get-docs-ip/ws'\n",
    "}\n",
    "\n",
    "# Извлечение archiveUrl\n",
    "archive_url = root.find('.//ns2:archiveUrl', namespaces)\n",
    "if archive_url is not None:\n",
    "    print(\"Archive URL:\", archive_url.text)\n",
    "else:\n",
    "    print(\"archiveUrl не найден\")\n"
   ]
  },
  {
   "cell_type": "code",
   "execution_count": null,
   "id": "fadcc088-c88d-479f-b14f-3cfcd011a10a",
   "metadata": {},
   "outputs": [],
   "source": []
  },
  {
   "cell_type": "code",
   "execution_count": null,
   "id": "e5291761-49aa-496f-a165-a3f52d1f69da",
   "metadata": {},
   "outputs": [],
   "source": []
  },
  {
   "cell_type": "code",
   "execution_count": 5,
   "id": "8717255f-2fc3-4e84-bdb8-305fc4579131",
   "metadata": {},
   "outputs": [],
   "source": [
    "import requests\n",
    "\n",
    "url = \"https://int44.zakupki.gov.ru/dstore/ip/download/PRIZ/file.zip?ticket=A6r7KIVhshemWkbs92E83oaKRM0QMwY4dwR2vANrW0p5fN%2Bt%2FFbFW4SZor%2FS5p2UQlTYydxJvBNGWmXR8avhadFrc8V4zbdyxLfh5RyUb%2FmvO79BdenvGiMpWslqT28bCz%2BEEVFt8OZpAYWY0fKsnDrhyEUp8rA2CGQugsD6mljvyXhqkTD6NWfaL42i7A43THXQW5Ayb2Dtst9OEQ8ZXVGViqY452vA6we9K2sJteW2lnhFTb%2B9BfWtpsMso9wk0nXI3vrg%2BULhl9hBfwboVZardZK5kNrLkZkOGdLxK2U2vwgPBGveR3jyFfb2XnBDzkBbY4sEEhFeUzxcA606ag%3D%3D\"\n",
    "#url = \"https://int44.zakupki.gov.ru/dstore/ip/download/PRIZ/file.zip\"\n",
    "headers = {\n",
    "    \"individualPerson_token\": \"3735f424-f2ac-4e0b-9c26-7f5b69e5c04a\"\n",
    "}\n",
    "response = requests.get(url, headers=headers)"
   ]
  },
  {
   "cell_type": "code",
   "execution_count": 7,
   "id": "8eaa408f-649f-4cd3-92d2-e4e4ebaa4771",
   "metadata": {},
   "outputs": [],
   "source": [
    "with open(\"file.zip\", \"wb\") as f:\n",
    "    f.write(response.content)\n",
    "\n",
    "import zipfile\n",
    "with zipfile.ZipFile(\"file.zip\", \"r\") as zip_ref:\n",
    "    zip_ref.extractall(\"output_directory\")"
   ]
  },
  {
   "cell_type": "code",
   "execution_count": 57,
   "id": "57a9a890-b117-4b8a-8e30-28b0b23e8e29",
   "metadata": {},
   "outputs": [
    {
     "data": {
      "text/plain": [
       "{'externalId': '0338200005124000169',\n",
       " 'query': 'Оказание услуг по техническому обслуживанию систем (автоматическая пожарной сигнализации (АПС) и система оповещения и управления эвакуацией (СОУЭ) людей при пожаре'}"
      ]
     },
     "execution_count": 57,
     "metadata": {},
     "output_type": "execute_result"
    }
   ],
   "source": [
    "import xml.etree.ElementTree as ET\n",
    "filename = \"./output_directory/epNotificationEZK2020_0338200005124000169_1.xml\"\n",
    "tree = ET.parse(filename)\n",
    "root = tree.getroot()\n",
    "\n",
    "namespaces = {\n",
    "    \"ns3\": \"http://zakupki.gov.ru/oos/export/1\",\n",
    "    \"ns5\": \"http://zakupki.gov.ru/oos/EPtypes/1\"\n",
    "}\n",
    "purchase_number = root.find(\".//ns5:purchaseNumber\", namespaces).text\n",
    "purchase_object_info = root.find(\".//ns5:purchaseObjectInfo\", namespaces).text\n",
    "responsible_org_info_fullname = root.find(\".//ns5:responsibleOrgInfo/ns5:fullName\", namespaces).text\n",
    "\n",
    "res = {\n",
    "    'externalId':purchase_number,\n",
    "    'query':purchase_object_info\n",
    "}\n",
    "res"
   ]
  },
  {
   "cell_type": "code",
   "execution_count": null,
   "id": "4d2135cf-dffd-4858-b149-17f6e59e0d7d",
   "metadata": {},
   "outputs": [],
   "source": []
  }
 ],
 "metadata": {
  "kernelspec": {
   "display_name": "Python 3 (ipykernel)",
   "language": "python",
   "name": "python3"
  },
  "language_info": {
   "codemirror_mode": {
    "name": "ipython",
    "version": 3
   },
   "file_extension": ".py",
   "mimetype": "text/x-python",
   "name": "python",
   "nbconvert_exporter": "python",
   "pygments_lexer": "ipython3",
   "version": "3.11.3"
  }
 },
 "nbformat": 4,
 "nbformat_minor": 5
}
