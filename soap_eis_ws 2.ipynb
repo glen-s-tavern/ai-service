{
 "cells": [
  {
   "cell_type": "code",
   "execution_count": 72,
   "id": "3b03aa79-b7dc-4584-8d25-91d9cf5c2079",
   "metadata": {},
   "outputs": [
    {
     "data": {
      "text/plain": [
       "'<?xml version=\"1.0\" encoding=\"UTF-8\"?><soap:Envelope xmlns:soap=\"http://schemas.xmlsoap.org/soap/envelope/\">   <soap:Header/>   <soap:Body>      <ns2:getDocsByReestrNumberResponse xmlns:ns2=\"http://zakupki.gov.ru/fz44/get-docs-ip/ws\">         <index>            <id>5bea0ced-904b-462c-9e42-be93b91bd18f</id>            <refId>83a5e824-4d1d-41b0-aba3-82417a4baa43</refId>            <createDateTime>2025-01-27T15:38:43.451</createDateTime>            <mode>PROD</mode>         </index>         <dataInfo>            <archiveUrl>https://int44.zakupki.gov.ru/dstore/ip/download/PRIZ/file.zip?ticket=L%2BIHZLPT%2B8E4CWy3Z8nj9Zvf5SVbMVAYbuVQE4Taag8GEGlI%2FnZKqLeB5OAmNS%2BhlOvLBg%2FlpsTds5kROcHbNLHyzXjhXYKOoQDo4vv8W16cfV8H%2FOpwJIXhag%2FqfOVg3t1hItIKGgqvXLZiwTufJvu2jLqQgnBgFbwAd4CZpTZDRgV7fM4U%2Fb1lU0VpmTZjotrQxGU8jP1TVqPE8Qb0M2PSNK%2FJ47qwzJ0VMBIziDZxil7H7IcTAnVDrnwHV8PiPw7vWXLqNWGyIsLXIAWpr4DL7pNWdpAl%2Bhx8RFJ8sXpYR1dXIQa3cr5nXxK8fRsyHEkepJosD6982JF0vRVnVg%3D%3D</archiveUrl>         </dataInfo>      </ns2:getDocsByReestrNumberResponse>   </soap:Body></soap:Envelope>'"
      ]
     },
     "execution_count": 72,
     "metadata": {},
     "output_type": "execute_result"
    }
   ],
   "source": [
    "import requests\n",
    "from xml.dom.minidom import parseString\n",
    "\n",
    "url = \"https://int44.zakupki.gov.ru/eis-integration/services/getDocsIP\" #correct для ФЛ\n",
    "\n",
    "token = \"3735f424-f2ac-4e0b-9c26-7f5b69e5c04a\" #correct\n",
    "idx = \"83a5e824-4d1d-41b0-aba3-82417a4baa43\" #correct\n",
    "time = \"2024-09-02T10:00:00\" #correct?\n",
    "mode = \"PROD\" \n",
    "sbsType = \"PRIZ\" #correct\n",
    "reestr_number = \"0338200005124000169\" # correct - artem\n",
    "#resstr_number = \"0338300047925000002\"\n",
    "\n",
    "soapEnvelope = f\"\"\"\n",
    "<soapenv:Envelope xmlns:soapenv=\"http://schemas.xmlsoap.org/soap/envelope/\" xmlns:ws=\"http://zakupki.gov.ru/fz44/get-docs-ip/ws\">\n",
    "    <soapenv:Header>\n",
    "        <individualPerson_token>{token}</individualPerson_token>\n",
    "    </soapenv:Header>\n",
    "    <soapenv:Body>\n",
    "        <ws:getDocsByReestrNumberRequest>\n",
    "            <index>\n",
    "                <id>{idx}</id>\n",
    "                <createDateTime>{time}</createDateTime>\n",
    "                <mode>{mode}</mode>\n",
    "            </index>\n",
    "            <selectionParams>\n",
    "                <subsystemType>{sbsType}</subsystemType>\n",
    "                <reestrNumber>{reestr_number}</reestrNumber>\n",
    "            </selectionParams>\n",
    "        </ws:getDocsByReestrNumberRequest>\n",
    "    </soapenv:Body>\n",
    "</soapenv:Envelope>\n",
    "\n",
    "\"\"\"\n",
    "options = {\n",
    "    \"Content-Type\": \"text/xml; charset=utf-8\"\n",
    "}\n",
    "response = requests.post(url, data = soapEnvelope, headers = options)\n",
    "response.text"
   ]
  },
  {
   "cell_type": "code",
   "execution_count": 59,
   "id": "62a1c6ec-4af3-4eba-b2de-832bd1088afa",
   "metadata": {},
   "outputs": [],
   "source": [
    "# with open(\"response.xml\", \"w\", encoding=\"utf-8\") as file:\n",
    "#     file.write(response.text)"
   ]
  },
  {
   "cell_type": "code",
   "execution_count": 60,
   "id": "8717255f-2fc3-4e84-bdb8-305fc4579131",
   "metadata": {},
   "outputs": [],
   "source": [
    "import requests\n",
    "\n",
    "url = \"https://int44.zakupki.gov.ru/dstore/ip/download/PRIZ/file.zip?ticket=A6r7KIVhshemWkbs92E83oaKRM0QMwY4dwR2vANrW0p5fN%2Bt%2FFbFW4SZor%2FS5p2UQlTYydxJvBNGWmXR8avhadFrc8V4zbdyxLfh5RyUb%2FmvO79BdenvGiMpWslqT28bCz%2BEEVFt8OZpAYWY0fKsnDrhyEUp8rA2CGQugsD6mljvyXhqkTD6NWfaL42i7A43THXQW5Ayb2Dtst9OEQ8ZXVGViqY452vA6we9K2sJteW2lnhFTb%2B9BfWtpsMso9wk0nXI3vrg%2BULhl9hBfwboVZardZK5kNrLkZkOGdLxK2U2vwgPBGveR3jyFfb2XnBDzkBbY4sEEhFeUzxcA606ag%3D%3D\"\n",
    "#url = \"https://int44.zakupki.gov.ru/dstore/ip/download/PRIZ/file.zip\"\n",
    "headers = {\n",
    "    \"individualPerson_token\": \"3735f424-f2ac-4e0b-9c26-7f5b69e5c04a\"\n",
    "}\n",
    "response = requests.get(url, headers=headers)"
   ]
  },
  {
   "cell_type": "code",
   "execution_count": 69,
   "id": "8eaa408f-649f-4cd3-92d2-e4e4ebaa4771",
   "metadata": {},
   "outputs": [],
   "source": [
    "with open(\"file.zip\", \"wb\") as f:\n",
    "    f.write(response.content)\n",
    "\n",
    "import zipfile\n",
    "with zipfile.ZipFile(\"file.zip\", \"r\") as zip_ref:\n",
    "    zip_ref.extractall(\"output_directory\")\n",
    "\n",
    "import os\n",
    "os.remove('file.zip')"
   ]
  },
  {
   "cell_type": "code",
   "execution_count": 70,
   "id": "57a9a890-b117-4b8a-8e30-28b0b23e8e29",
   "metadata": {},
   "outputs": [
    {
     "data": {
      "text/plain": [
       "{'externalId': '0338200005124000169',\n",
       " 'query': 'Оказание услуг по техническому обслуживанию систем (автоматическая пожарной сигнализации (АПС) и система оповещения и управления эвакуацией (СОУЭ) людей при пожаре'}"
      ]
     },
     "execution_count": 70,
     "metadata": {},
     "output_type": "execute_result"
    }
   ],
   "source": [
    "import xml.etree.ElementTree as ET\n",
    "filename = \"./output_directory/epNotificationEZK2020_0338200005124000169_1.xml\"\n",
    "tree = ET.parse(filename)\n",
    "root = tree.getroot()\n",
    "\n",
    "import shutil\n",
    "shutil.rmtree('output_directory')\n",
    "\n",
    "namespaces = {\n",
    "    \"ns3\": \"http://zakupki.gov.ru/oos/export/1\",\n",
    "    \"ns5\": \"http://zakupki.gov.ru/oos/EPtypes/1\"\n",
    "}\n",
    "purchase_number = root.find(\".//ns5:purchaseNumber\", namespaces).text\n",
    "purchase_object_info = root.find(\".//ns5:purchaseObjectInfo\", namespaces).text\n",
    "responsible_org_info_fullname = root.find(\".//ns5:responsibleOrgInfo/ns5:fullName\", namespaces).text\n",
    "\n",
    "res = {\n",
    "    'externalId':purchase_number,\n",
    "    'query':purchase_object_info\n",
    "}\n",
    "res"
   ]
  },
  {
   "cell_type": "code",
   "execution_count": null,
   "id": "4d2135cf-dffd-4858-b149-17f6e59e0d7d",
   "metadata": {},
   "outputs": [],
   "source": []
  }
 ],
 "metadata": {
  "kernelspec": {
   "display_name": "Python 3 (ipykernel)",
   "language": "python",
   "name": "python3"
  },
  "language_info": {
   "codemirror_mode": {
    "name": "ipython",
    "version": 3
   },
   "file_extension": ".py",
   "mimetype": "text/x-python",
   "name": "python",
   "nbconvert_exporter": "python",
   "pygments_lexer": "ipython3",
   "version": "3.11.3"
  }
 },
 "nbformat": 4,
 "nbformat_minor": 5
}
